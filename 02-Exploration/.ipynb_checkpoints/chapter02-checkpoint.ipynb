{
 "cells": [
  {
   "cell_type": "markdown",
   "metadata": {
    "collapsed": true
   },
   "source": [
    "- File-Name:       chapter02           \n",
    "- Date:            2016-11-11                                \n",
    "- Author:          Pablo Margreff\n",
    "- Email:           pmargreff@gmail.com\n",
    "- Purpose:         Code for Chapter 2. Showcases tools for exploratory data analysis.\n",
    "- Data Used:       data/01_heights_weights_genders.csv\n",
    "- Packages Used:   IJulia, DataFrames\n",
    "- Machine:         Pablo Margreff's Sony Vayo\n"
   ]
  },
  {
   "cell_type": "markdown",
   "metadata": {},
   "source": [
    "\n",
    "## Snippet 1\n",
    "\n",
    "\n",
    "### Load in the data set from disk.\n"
   ]
  },
  {
   "cell_type": "code",
   "execution_count": 1,
   "metadata": {
    "collapsed": false
   },
   "outputs": [
    {
     "data": {
      "text/html": [
       "<table class=\"data-frame\"><tr><th></th><th>Gender</th><th>Height</th><th>Weight</th></tr><tr><th>1</th><td>Male</td><td>73.847017017515</td><td>241.893563180437</td></tr><tr><th>2</th><td>Male</td><td>68.7819040458903</td><td>162.3104725213</td></tr><tr><th>3</th><td>Male</td><td>74.1101053917849</td><td>212.7408555565</td></tr><tr><th>4</th><td>Male</td><td>71.7309784033377</td><td>220.042470303077</td></tr><tr><th>5</th><td>Male</td><td>69.8817958611153</td><td>206.349800623871</td></tr><tr><th>6</th><td>Male</td><td>67.2530156878065</td><td>152.212155757083</td></tr><tr><th>7</th><td>Male</td><td>68.7850812516616</td><td>183.927888604031</td></tr><tr><th>8</th><td>Male</td><td>68.3485155115879</td><td>167.971110489509</td></tr><tr><th>9</th><td>Male</td><td>67.018949662883</td><td>175.92944039571</td></tr><tr><th>10</th><td>Male</td><td>63.4564939783664</td><td>156.399676387112</td></tr><tr><th>11</th><td>Male</td><td>71.1953822829745</td><td>186.604925560358</td></tr><tr><th>12</th><td>Male</td><td>71.6408051192206</td><td>213.741169489411</td></tr><tr><th>13</th><td>Male</td><td>64.7663291334055</td><td>167.127461073476</td></tr><tr><th>14</th><td>Male</td><td>69.2830700967204</td><td>189.446181386738</td></tr><tr><th>15</th><td>Male</td><td>69.2437322298112</td><td>186.434168021239</td></tr><tr><th>16</th><td>Male</td><td>67.6456197004212</td><td>172.186930058117</td></tr><tr><th>17</th><td>Male</td><td>72.4183166259878</td><td>196.028506330482</td></tr><tr><th>18</th><td>Male</td><td>63.974325721061</td><td>172.88347020878</td></tr><tr><th>19</th><td>Male</td><td>69.6400598997523</td><td>185.98395757313</td></tr><tr><th>20</th><td>Male</td><td>67.9360048540095</td><td>182.426648013226</td></tr><tr><th>21</th><td>Male</td><td>67.9150501938206</td><td>174.115929081393</td></tr><tr><th>22</th><td>Male</td><td>69.4394398680395</td><td>197.73142161472</td></tr><tr><th>23</th><td>Male</td><td>66.1491319608781</td><td>149.173566007975</td></tr><tr><th>24</th><td>Male</td><td>75.2059736142212</td><td>228.761780615196</td></tr><tr><th>25</th><td>Male</td><td>67.8931963386043</td><td>162.006651848287</td></tr><tr><th>26</th><td>Male</td><td>68.1440327982008</td><td>192.343976579187</td></tr><tr><th>27</th><td>Male</td><td>69.0896314289256</td><td>184.435174408406</td></tr><tr><th>28</th><td>Male</td><td>72.8008435165003</td><td>206.828189420354</td></tr><tr><th>29</th><td>Male</td><td>67.4212422817167</td><td>175.213922399227</td></tr><tr><th>30</th><td>Male</td><td>68.4964153568827</td><td>154.342638925955</td></tr><tr><th>&vellip;</th><td>&vellip;</td><td>&vellip;</td><td>&vellip;</td></tr></table>"
      ],
      "text/plain": [
       "10000×3 DataFrames.DataFrame\n",
       "│ Row   │ Gender   │ Height  │ Weight  │\n",
       "├───────┼──────────┼─────────┼─────────┤\n",
       "│ 1     │ \"Male\"   │ 73.847  │ 241.894 │\n",
       "│ 2     │ \"Male\"   │ 68.7819 │ 162.31  │\n",
       "│ 3     │ \"Male\"   │ 74.1101 │ 212.741 │\n",
       "│ 4     │ \"Male\"   │ 71.731  │ 220.042 │\n",
       "│ 5     │ \"Male\"   │ 69.8818 │ 206.35  │\n",
       "│ 6     │ \"Male\"   │ 67.253  │ 152.212 │\n",
       "│ 7     │ \"Male\"   │ 68.7851 │ 183.928 │\n",
       "│ 8     │ \"Male\"   │ 68.3485 │ 167.971 │\n",
       "│ 9     │ \"Male\"   │ 67.0189 │ 175.929 │\n",
       "│ 10    │ \"Male\"   │ 63.4565 │ 156.4   │\n",
       "│ 11    │ \"Male\"   │ 71.1954 │ 186.605 │\n",
       "⋮\n",
       "│ 9989  │ \"Female\" │ 59.5387 │ 121.245 │\n",
       "│ 9990  │ \"Female\" │ 60.9551 │ 95.6867 │\n",
       "│ 9991  │ \"Female\" │ 63.1795 │ 141.266 │\n",
       "│ 9992  │ \"Female\" │ 62.6367 │ 102.854 │\n",
       "│ 9993  │ \"Female\" │ 62.0778 │ 138.692 │\n",
       "│ 9994  │ \"Female\" │ 60.0304 │ 97.6874 │\n",
       "│ 9995  │ \"Female\" │ 59.0983 │ 110.53  │\n",
       "│ 9996  │ \"Female\" │ 66.1727 │ 136.777 │\n",
       "│ 9997  │ \"Female\" │ 67.0672 │ 170.868 │\n",
       "│ 9998  │ \"Female\" │ 63.868  │ 128.475 │\n",
       "│ 9999  │ \"Female\" │ 69.0342 │ 163.852 │\n",
       "│ 10000 │ \"Female\" │ 61.9442 │ 113.649 │"
      ]
     },
     "execution_count": 1,
     "metadata": {},
     "output_type": "execute_result"
    }
   ],
   "source": [
    "using DataFrames\n",
    "df = readtable(\"data/01_heights_weights_genders.csv\")"
   ]
  },
  {
   "cell_type": "markdown",
   "metadata": {},
   "source": [
    "### Create a numeric DataArray containing just the heights data."
   ]
  },
  {
   "cell_type": "code",
   "execution_count": 2,
   "metadata": {
    "collapsed": false
   },
   "outputs": [
    {
     "data": {
      "text/plain": [
       "10000-element DataArrays.DataArray{Float64,1}:\n",
       " 73.847 \n",
       " 68.7819\n",
       " 74.1101\n",
       " 71.731 \n",
       " 69.8818\n",
       " 67.253 \n",
       " 68.7851\n",
       " 68.3485\n",
       " 67.0189\n",
       " 63.4565\n",
       " 71.1954\n",
       " 71.6408\n",
       " 64.7663\n",
       "  ⋮     \n",
       " 59.5387\n",
       " 60.9551\n",
       " 63.1795\n",
       " 62.6367\n",
       " 62.0778\n",
       " 60.0304\n",
       " 59.0983\n",
       " 66.1727\n",
       " 67.0672\n",
       " 63.868 \n",
       " 69.0342\n",
       " 61.9442"
      ]
     },
     "execution_count": 2,
     "metadata": {},
     "output_type": "execute_result"
    }
   ],
   "source": [
    "heights = df[:Height]"
   ]
  },
  {
   "cell_type": "code",
   "execution_count": 3,
   "metadata": {
    "collapsed": false
   },
   "outputs": [
    {
     "data": {
      "text/plain": [
       "54.2631333250971"
      ]
     },
     "execution_count": 3,
     "metadata": {},
     "output_type": "execute_result"
    }
   ],
   "source": [
    "minimum(heights)\n",
    "\n"
   ]
  },
  {
   "cell_type": "code",
   "execution_count": 4,
   "metadata": {
    "collapsed": false
   },
   "outputs": [
    {
     "data": {
      "text/plain": [
       "66.31807008178464"
      ]
     },
     "execution_count": 4,
     "metadata": {},
     "output_type": "execute_result"
    }
   ],
   "source": [
    "median(heights)"
   ]
  },
  {
   "cell_type": "code",
   "execution_count": 5,
   "metadata": {
    "collapsed": false
   },
   "outputs": [
    {
     "data": {
      "text/plain": [
       "66.36755975482124"
      ]
     },
     "execution_count": 5,
     "metadata": {},
     "output_type": "execute_result"
    }
   ],
   "source": [
    "mean(heights)"
   ]
  },
  {
   "cell_type": "code",
   "execution_count": 6,
   "metadata": {
    "collapsed": false
   },
   "outputs": [
    {
     "data": {
      "text/plain": [
       "78.9987423463896"
      ]
     },
     "execution_count": 6,
     "metadata": {},
     "output_type": "execute_result"
    }
   ],
   "source": [
    "maximum(heights)"
   ]
  },
  {
   "cell_type": "markdown",
   "metadata": {},
   "source": [
    "## Snippet 2\n",
    "\n",
    "### Define our own mean and median functions."
   ]
  },
  {
   "cell_type": "code",
   "execution_count": 7,
   "metadata": {
    "collapsed": false
   },
   "outputs": [
    {
     "data": {
      "text/plain": [
       "mymean (generic function with 1 method)"
      ]
     },
     "execution_count": 7,
     "metadata": {},
     "output_type": "execute_result"
    }
   ],
   "source": [
    "function mymean(x) \n",
    "    return (sum(x) / length(x))\n",
    "end\n"
   ]
  },
  {
   "cell_type": "code",
   "execution_count": 8,
   "metadata": {
    "collapsed": false
   },
   "outputs": [
    {
     "data": {
      "text/plain": [
       "mymedian (generic function with 1 method)"
      ]
     },
     "execution_count": 8,
     "metadata": {},
     "output_type": "execute_result"
    }
   ],
   "source": [
    "function mymedian(x)\n",
    "    sorted = sort(x)\n",
    "    if length(x) % 2 == 0\n",
    "        indices = length(x)/2,length(x) / 2 + 1\n",
    "        return mean(sorted[indices])\n",
    "    else \n",
    "        index = ceil(length(x)/2)\n",
    "        return mean(sorted[index])\n",
    "    end\n",
    "end"
   ]
  },
  {
   "cell_type": "markdown",
   "metadata": {},
   "source": [
    "## Snippet 3\n",
    "\n",
    "### Compare means and medians on toy examples."
   ]
  },
  {
   "cell_type": "code",
   "execution_count": 9,
   "metadata": {
    "collapsed": false
   },
   "outputs": [
    {
     "data": {
      "text/plain": [
       "2-element Array{Int64,1}:\n",
       "   0\n",
       " 100"
      ]
     },
     "execution_count": 9,
     "metadata": {},
     "output_type": "execute_result"
    }
   ],
   "source": [
    "array = [0,100]"
   ]
  },
  {
   "cell_type": "code",
   "execution_count": 10,
   "metadata": {
    "collapsed": false
   },
   "outputs": [
    {
     "data": {
      "text/plain": [
       "50.0"
      ]
     },
     "execution_count": 10,
     "metadata": {},
     "output_type": "execute_result"
    }
   ],
   "source": [
    "mean(array)"
   ]
  },
  {
   "cell_type": "code",
   "execution_count": 11,
   "metadata": {
    "collapsed": false
   },
   "outputs": [
    {
     "data": {
      "text/plain": [
       "50.0"
      ]
     },
     "execution_count": 11,
     "metadata": {},
     "output_type": "execute_result"
    }
   ],
   "source": [
    "median(array)"
   ]
  },
  {
   "cell_type": "code",
   "execution_count": 12,
   "metadata": {
    "collapsed": false
   },
   "outputs": [
    {
     "data": {
      "text/plain": [
       "3-element Array{Int64,1}:\n",
       "   0\n",
       "   0\n",
       " 100"
      ]
     },
     "execution_count": 12,
     "metadata": {},
     "output_type": "execute_result"
    }
   ],
   "source": [
    "array = [0, 0, 100]"
   ]
  },
  {
   "cell_type": "code",
   "execution_count": 13,
   "metadata": {
    "collapsed": false
   },
   "outputs": [
    {
     "data": {
      "text/plain": [
       "33.333333333333336"
      ]
     },
     "execution_count": 13,
     "metadata": {},
     "output_type": "execute_result"
    }
   ],
   "source": [
    "mean(array)"
   ]
  },
  {
   "cell_type": "code",
   "execution_count": 14,
   "metadata": {
    "collapsed": false
   },
   "outputs": [
    {
     "data": {
      "text/plain": [
       "0.0"
      ]
     },
     "execution_count": 14,
     "metadata": {},
     "output_type": "execute_result"
    }
   ],
   "source": [
    "median(array)"
   ]
  }
 ],
 "metadata": {
  "kernelspec": {
   "display_name": "Julia 0.5.0",
   "language": "julia",
   "name": "julia-0.5"
  },
  "language_info": {
   "file_extension": ".jl",
   "mimetype": "application/julia",
   "name": "julia",
   "version": "0.5.0"
  }
 },
 "nbformat": 4,
 "nbformat_minor": 1
}
